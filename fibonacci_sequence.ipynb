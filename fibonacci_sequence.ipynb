{
  "nbformat": 4,
  "nbformat_minor": 0,
  "metadata": {
    "colab": {
      "provenance": [],
      "authorship_tag": "ABX9TyPxff28D/b1TCwJS7qFsf7z"
    },
    "kernelspec": {
      "name": "python3",
      "display_name": "Python 3"
    },
    "language_info": {
      "name": "python"
    }
  },
  "cells": [
    {
      "cell_type": "code",
      "source": [
        "fib_sequence = [1, 1]\n",
        "\n",
        "while len(fib_sequence) < 25:\n",
        "  next_numb = fib_sequence[-1] + fib_sequence[-2]\n",
        "  fib_sequence.append(next_numb)\n",
        "\n",
        "print(fib_sequence)"
      ],
      "metadata": {
        "colab": {
          "base_uri": "https://localhost:8080/"
        },
        "id": "cBxSULrOO60P",
        "outputId": "80a8a905-7413-4b16-8d78-b08797bf2f12"
      },
      "execution_count": 1,
      "outputs": [
        {
          "output_type": "stream",
          "name": "stdout",
          "text": [
            "[1, 1, 2, 3, 5, 8, 13, 21, 34, 55, 89, 144, 233, 377, 610, 987, 1597, 2584, 4181, 6765, 10946, 17711, 28657, 46368, 75025]\n"
          ]
        }
      ]
    }
  ]
}